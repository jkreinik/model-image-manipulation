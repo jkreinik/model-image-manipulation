{
 "cells": [
  {
   "cell_type": "code",
   "execution_count": 4,
   "metadata": {
    "collapsed": false
   },
   "outputs": [],
   "source": [
    "from PIL import Image, ImageFilter\n",
    "try:\n",
    "    original = Image.open(\"images/living_room_lifestlye.jpg!d\")\n",
    "except:\n",
    "    print (\"Unable to load image\")\n",
    "    "
   ]
  },
  {
   "cell_type": "code",
   "execution_count": 7,
   "metadata": {
    "collapsed": false
   },
   "outputs": [
    {
     "name": "stdout",
     "output_type": "stream",
     "text": [
      "The size of the Image is: \n",
      "JPEG (1200, 771) RGB\n"
     ]
    }
   ],
   "source": [
    "print (\"The size of the Image is: \")\n",
    "print(original.format, original.size, original.mode)"
   ]
  },
  {
   "cell_type": "code",
   "execution_count": 9,
   "metadata": {
    "collapsed": false
   },
   "outputs": [],
   "source": [
    "# Blur the image\n",
    "blurred = original.filter(ImageFilter.BLUR)\n",
    "\n",
    "# Display both images\n",
    "original.show()\n",
    "blurred.show()"
   ]
  },
  {
   "cell_type": "code",
   "execution_count": 12,
   "metadata": {
    "collapsed": true
   },
   "outputs": [],
   "source": [
    "spinPicture003 = original.rotate(45)\n",
    "spinPicture003.show()"
   ]
  },
  {
   "cell_type": "code",
   "execution_count": 14,
   "metadata": {
    "collapsed": false
   },
   "outputs": [],
   "source": [
    "width, height = original.size   # Get dimensions\n",
    "left = width/4\n",
    "top = height/4\n",
    "right = 3 * width/4\n",
    "bottom = 3 * height/4\n",
    "cropped_example = original.crop((left, top, right, bottom))\n",
    "\n",
    "cropped_example.show()"
   ]
  },
  {
   "cell_type": "code",
   "execution_count": 16,
   "metadata": {
    "collapsed": false
   },
   "outputs": [],
   "source": [
    "faceIm = original.crop((335, 345, 565, 560))\n",
    "original.paste(faceIm, (0, 0))\n",
    "original.paste(faceIm, (400, 500))\n",
    "original.show()"
   ]
  },
  {
   "cell_type": "code",
   "execution_count": null,
   "metadata": {
    "collapsed": true
   },
   "outputs": [],
   "source": []
  }
 ],
 "metadata": {
  "anaconda-cloud": {},
  "kernelspec": {
   "display_name": "Python [default]",
   "language": "python",
   "name": "python3"
  },
  "language_info": {
   "codemirror_mode": {
    "name": "ipython",
    "version": 3
   },
   "file_extension": ".py",
   "mimetype": "text/x-python",
   "name": "python",
   "nbconvert_exporter": "python",
   "pygments_lexer": "ipython3",
   "version": "3.5.2"
  }
 },
 "nbformat": 4,
 "nbformat_minor": 2
}
